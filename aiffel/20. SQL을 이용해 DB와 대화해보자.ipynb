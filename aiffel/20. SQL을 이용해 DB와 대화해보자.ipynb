{
 "cells": [
  {
   "cell_type": "markdown",
   "metadata": {},
   "source": [
    "## 20-1 들어가며\n",
    "\n",
    "### 파이썬과 데이터베이스가 만난다면?\n",
    "___\n",
    "\n",
    "## 20-2 파이썬으로 DB 다루기\n",
    "___\n",
    "### SQLite\n",
    "___\n",
    "SQLite는 서버의 필요 없이 DB의 파일ㅇ 기초하여 DB 처리를 구현한 임베디드 SQL DB 엔진입니다. \n",
    "  \n",
    "   \n",
    "   \n",
    "### 파이썬과 DB\n",
    "___\n",
    "  \n",
    "  \n",
    "  \n",
    "  \n",
    "  \n",
    "  \n",
    "Python DB API"
   ]
  },
  {
   "cell_type": "code",
   "execution_count": 1,
   "metadata": {},
   "outputs": [
    {
     "name": "stdout",
     "output_type": "stream",
     "text": [
      "뿅💛\n"
     ]
    }
   ],
   "source": [
    "import sqlite3\n",
    "print(\"뿅💛\")"
   ]
  },
  {
   "cell_type": "code",
   "execution_count": 2,
   "metadata": {},
   "outputs": [
    {
     "name": "stdout",
     "output_type": "stream",
     "text": [
      "<sqlite3.Connection object at 0x7f332c629d50>\n"
     ]
    }
   ],
   "source": [
    "import os\n",
    "db_path = os.getenv('HOME')+'/aiffel/sql_to_db/sqlite/mydb.db'\n",
    "conn = sqlite3.connect(db_path)  # mydb.db에 연결합니다.\n",
    "print(conn)"
   ]
  },
  {
   "cell_type": "code",
   "execution_count": 3,
   "metadata": {},
   "outputs": [
    {
     "name": "stdout",
     "output_type": "stream",
     "text": [
      "<sqlite3.Cursor object at 0x7f3329573730>\n"
     ]
    }
   ],
   "source": [
    "c = conn.cursor()\n",
    "print(c)"
   ]
  },
  {
   "cell_type": "code",
   "execution_count": 4,
   "metadata": {},
   "outputs": [
    {
     "name": "stdout",
     "output_type": "stream",
     "text": [
      "('20200701', 'TEST', 'AIFFEL', 1.0, 10000.0)\n"
     ]
    }
   ],
   "source": [
    "# stocks이라는 이름의 테이블을 하나 생성합니다. 혹시 이미 생성되었다면 생략합니다. \n",
    "c.execute(\"CREATE TABLE  IF NOT EXISTS  stocks (date text, trans text, symbol text, qty real, price real)\")\n",
    "\n",
    "# stocks 테이블에 데이터를 하나 인서트합니다. \n",
    "c.execute(\"INSERT INTO stocks VALUES ('20200701', 'TEST', 'AIFFEL', 1, 10000)\")\n",
    "\n",
    "# 방금 인서트한 데이터를 조회해 봅니다.\n",
    "c.execute(\"SELECT * FROM stocks\")\n",
    "\n",
    "# 조회된 내역을 커서를 통해 가져와 출력해 봅니다.\n",
    "print(c.fetchone())"
   ]
  },
  {
   "cell_type": "code",
   "execution_count": 5,
   "metadata": {},
   "outputs": [
    {
     "name": "stdout",
     "output_type": "stream",
     "text": [
      "뿅💛\n"
     ]
    }
   ],
   "source": [
    "conn.commit() # commit()은 cursor의 메소드가 아니라 connection의 메소드입니다.\n",
    "print(\"뿅💛\")"
   ]
  },
  {
   "cell_type": "code",
   "execution_count": null,
   "metadata": {},
   "outputs": [],
   "source": [
    "c.close() # 먼저 커서를 닫은 후\n",
    "conn.close()\n",
    "print(\"뿅💛\")"
   ]
  },
  {
   "cell_type": "markdown",
   "metadata": {},
   "source": [
    "### DDL문으로 테이블 생성하기\n",
    "___"
   ]
  },
  {
   "cell_type": "code",
   "execution_count": null,
   "metadata": {},
   "outputs": [],
   "source": [
    "import sqlite3\n",
    "import os\n",
    "db_path = os.getenv('HOME')+'/aiffel/sql_to_db/sqlite/mydb.db'\n",
    "\n",
    "conn = sqlite3.connet(db_path)\n",
    "c = conn.cursor()\n",
    "\n",
    "#-! 재실행 시 테이블이 존재할 수 있으므로 아래처럼 해당 테이블들을 모두 지웁니다.\n",
    "c.execute(\"DROP TABLE IF EXISTS 도서대출내역\")\n",
    "c.execute(\"DROP TABLE IF EXISTS 도서대출내역2\")\n",
    "c.execute(\"DROP TABLE IF EXISTS 대출내역\")\n",
    "c.execute(\"DROP TABLE IF EXISTS 도서명\")\n",
    "\n",
    "\n",
    "#--- 1st table: 도서대출내역 ---#\n",
    "c.execute(\"CREATE TABLE IF NOT EXISTS 도서대출내역 (ID varchar, 이름 varchar, 도서ID varchar, 대출일 varchar, 반납일 varchar)\")\n",
    "#- 생성(create)문: 테이블명, 변수명, 변수타입을 지정\n",
    "\n",
    "data = [('101','문강태','aaa','2020-06-01','2020-06-05'),\n",
    "             ('101','문강태','ccc','2020-06-20','2020-06-25'),\n",
    "             ('102','고문영','bbb','2020-06-01',None),\n",
    "             ('102','고문영','ddd','2020-06-08',None),\n",
    "             ('103','문상태','ccc','2020-06-01','2020-06-05'),\n",
    "             ('104','강기둥',None,None,None)]\n",
    "#- 입력할 데이터를 그대로 입력(변수명 순서 기준대로)\n",
    "\n",
    "c.executemany('INSERT INTO 도서대출내역 VALUES (?,?,?,?,?)', data)\n",
    "#- 입력할 데이터를 실제 테이블에 insert하기\n",
    "#-----------------------------------------------#\n",
    "\n",
    "\n",
    "#----- 2nd table : 도서대출내역2 -----#\n",
    "c.execute(\"CREATE TABLE IF NOT EXISTS 도서대출내역2 (ID varchar, 이름 varchar, 대출년월 varchar, 대출일수 varchar)\")\n",
    "\n",
    "data = [('101','문강태','2020-06','20일'),\n",
    "             ('102','고문영','2020-06','10일'),\n",
    "             ('103','문상태','2020-06','8일'),\n",
    "             ('104','강기둥','2020-06','3일')]\n",
    "c.executemany('INSERT INTO 도서대출내역2 VALUES (?,?,?,?)', data)\n",
    "#--------------------------------------------------#\n",
    "\n",
    "\n",
    "#----- 3rd table : 대출내역 -----#\n",
    "c.execute(\"CREATE TABLE IF NOT EXISTS 대출내역 (ID varchar, 이름 varchar, 도서ID varchar)\")\n",
    "\n",
    "data = [('101','문강태','aaa'),\n",
    "             ('102','고문영','bbb'),\n",
    "             ('102','고문영','fff'),\n",
    "             ('103','문상태','ccc'),\n",
    "             ('104','강기둥',None)]\n",
    "c.executemany('INSERT INTO 대출내역 VALUES (?,?,?)', data)\n",
    "#-----------------------------------------#\n",
    "\n",
    "\n",
    "#----- 4th table : 도서명 -----#\n",
    "c.execute(\"CREATE TABLE IF NOT EXISTS 도서명 (도서ID varchar, 도서명 varchar)\")\n",
    "\n",
    "data = [('aaa','악몽을 먹고 자란 소년'),\n",
    "             ('bbb','좀비아이'),\n",
    "             ('ccc','공룡백과사전'),\n",
    "             ('ddd','빨간구두'),\n",
    "             ('eee','잠자는 숲속의 미녀')]\n",
    "\n",
    "c.executemany('INSERT INTO 도서명 VALUES (?,?)', data)\n",
    "#--------------------------------------#\n",
    "\n",
    "conn.commit()\n",
    "conn.close()\n",
    "print(\"뿅💛\")"
   ]
  },
  {
   "cell_type": "code",
   "execution_count": null,
   "metadata": {},
   "outputs": [],
   "source": [
    "conn = sqlite3.connect(db_path)\n",
    "c = conn.cursor()\n",
    "\n",
    "for row in c.execute('SELECT * FROM 도서명'):\n",
    "  print(row)"
   ]
  },
  {
   "cell_type": "markdown",
   "metadata": {},
   "source": [
    "## 20-3 SQL (1) SQL의 기본\n",
    "\n",
    "SQL의 기본\n",
    "___\n",
    "- select ~ :조회할 컬럼명을 선택\n",
    "- from ~ : 조회할 테이블명을 지정(위치와 테이블명을 입력)\n",
    "- where ~ : 질의할 때 필요한 조건을 설정\n",
    "- group by ~ : 특정 컬럼을 기준으로 그룹을 지어 출력\n",
    "- order by ~ : select 다음에 오는 컬럼 중 정렬이 필요한 부분을 정렬(기본 설정: 오름차순)\n",
    "- limit 숫자 : Display 하고자 하는 행의 수를 설정\n"
   ]
  },
  {
   "cell_type": "code",
   "execution_count": null,
   "metadata": {},
   "outputs": [],
   "source": [
    "#-참고 : 실제 조회를 해보시려면 아래처럼 쓰시면 됩니다.\n",
    "#- c.execute() 괄호 안에 SQL문을 넣으시면 됩니다.\n",
    "\n",
    "import os\n",
    "db_path = os.getenv('HOME')+'/aiffel/sql_to_db/sqlite/mydb.db'\n",
    "conn = sqlite3.connect(db_path) # mydb.db 에 연결합니다.\n",
    "c = conn.cursor()\n",
    "\n",
    "for row in c.execute('SELECT*FROM 도서대출내역'):\n",
    "    print(row)\n",
    "#-! 출력시 'NULL' 대신 'None'으로 출력될 수 있으나 동일하게 이해하시면 됩니다.\n"
   ]
  },
  {
   "cell_type": "code",
   "execution_count": 7,
   "metadata": {},
   "outputs": [
    {
     "ename": "SyntaxError",
     "evalue": "invalid syntax (<ipython-input-7-1b69c7b285f2>, line 1)",
     "output_type": "error",
     "traceback": [
      "\u001b[0;36m  File \u001b[0;32m\"<ipython-input-7-1b69c7b285f2>\"\u001b[0;36m, line \u001b[0;32m1\u001b[0m\n\u001b[0;31m    c.execute(select ID from 도서대출내역)\u001b[0m\n\u001b[0m                      ^\u001b[0m\n\u001b[0;31mSyntaxError\u001b[0m\u001b[0;31m:\u001b[0m invalid syntax\n"
     ]
    }
   ],
   "source": [
    "c.execute(select ID from 도서대출내역)"
   ]
  },
  {
   "cell_type": "markdown",
   "metadata": {},
   "source": [
    "## 20-4 SQL (2) Data Type\n"
   ]
  },
  {
   "cell_type": "code",
   "execution_count": 8,
   "metadata": {},
   "outputs": [
    {
     "name": "stdout",
     "output_type": "stream",
     "text": [
      "(0, 'ID', 'varchar', 0, None, 0)\n",
      "(1, '이름', 'varchar', 0, None, 0)\n",
      "(2, '대출년월', 'varchar', 0, None, 0)\n",
      "(3, '대출일수', 'varchar', 0, None, 0)\n"
     ]
    }
   ],
   "source": [
    "import os\n",
    "db_path = os.getenv('HOME')+'/aiffel/sql_to_db/sqlite/mydb.db'\n",
    "conn = sqlite3.connect(db_path) #mydb.db에 연결합니다\n",
    "c = conn.cursor()\n",
    "\n",
    "for row in c.execute('pragma table_info(도서대출내역2)'):\n",
    "    print(row)"
   ]
  },
  {
   "cell_type": "code",
   "execution_count": null,
   "metadata": {},
   "outputs": [],
   "source": [
    "SELECT ID, 이름, 대출년월"
   ]
  }
 ],
 "metadata": {
  "kernelspec": {
   "display_name": "aiffel",
   "language": "python",
   "name": "aiffel"
  },
  "language_info": {
   "codemirror_mode": {
    "name": "ipython",
    "version": 3
   },
   "file_extension": ".py",
   "mimetype": "text/x-python",
   "name": "python",
   "nbconvert_exporter": "python",
   "pygments_lexer": "ipython3",
   "version": "3.7.9"
  }
 },
 "nbformat": 4,
 "nbformat_minor": 4
}
