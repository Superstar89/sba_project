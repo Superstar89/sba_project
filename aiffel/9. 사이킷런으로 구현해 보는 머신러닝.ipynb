{
 "cells": [
  {
   "cell_type": "markdown",
   "metadata": {},
   "source": [
    "## 최적의 '머신러닝 알고리즘'을 고르기 위한 치트키\n",
    "\n",
    "아래의 목록에 따라 활용되는 알고리즘이 다르다\n",
    "\n",
    "- 데이터의 크기, 품질, 특성\n",
    "- 가용 연산(계산) 시간\n",
    "- 작업의 긴급성\n",
    "- 데이터를 이용해 하고 싶은 것\n",
    "\n",
    "\n",
    "<머신러닝 알고리즘의 유형>\n",
    "\n",
    "1. 지도학습\n",
    "\n",
    "지도학습 알고리즘은 한 세트의 사례들을 기반으로 예측을 수행합니다.\n",
    "기존에 이미 분류된 학습용 데이터로 구성된 입력 변수와 원하는 출력 변수가 수반\n",
    "\n",
    "알고리즘을 이용해 학습용 데ㅣ터를 분석함으로써 입력 변수를 출력 변수와 매핑시키는 함수를 찾을 수 있습니다. 이렇게 추론도니 함수는 학스ㅂ용 데이터로 부터 일반화(generalizing)를 통해 알려지지 않은 새로운 사례들을 매핑하고, 눈에 보이지 않는 상황 속에서 결과를 예측\n",
    "\n",
    "\n",
    "- __분류(Classification):__ 데이터가 범주형 변수를 예측하기 위해 사용될 때 지도학습을 '분류라고 부르기도 합니다. 이미지에 강아지나, 고양이와 같은 레이블 또는 지표를 할당하는 경우가 해당 레이블이 두 개인 경우를 '이진분류(binary classification)', 범주가 두 개 이상인 경우는 다중 클래스 분류(multi-class classification)라고 부릅니다.\n",
    "\n",
    "- __회귀(Regression):__ 연속 값을 예측 할 때 문젠ㄴ 회귀 문제가 됩니다.\n",
    "- __예측(Forecasting):__ 과거 및 현재 데이터를 기반으로 미래를 예측하는 과정"
   ]
  },
  {
   "cell_type": "code",
   "execution_count": null,
   "metadata": {},
   "outputs": [],
   "source": []
  }
 ],
 "metadata": {
  "kernelspec": {
   "display_name": "Python 3",
   "language": "python",
   "name": "python3"
  },
  "language_info": {
   "codemirror_mode": {
    "name": "ipython",
    "version": 3
   },
   "file_extension": ".py",
   "mimetype": "text/x-python",
   "name": "python",
   "nbconvert_exporter": "python",
   "pygments_lexer": "ipython3",
   "version": "3.7.6"
  }
 },
 "nbformat": 4,
 "nbformat_minor": 4
}
