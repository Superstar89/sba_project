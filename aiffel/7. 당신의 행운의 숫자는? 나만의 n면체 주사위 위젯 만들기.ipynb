{
 "cells": [
  {
   "cell_type": "code",
   "execution_count": 1,
   "metadata": {},
   "outputs": [
    {
     "data": {
      "text/plain": [
       "4"
      ]
     },
     "execution_count": 1,
     "metadata": {},
     "output_type": "execute_result"
    }
   ],
   "source": [
    "var = 4\n",
    "var"
   ]
  },
  {
   "cell_type": "code",
   "execution_count": 2,
   "metadata": {},
   "outputs": [
    {
     "name": "stdout",
     "output_type": "stream",
     "text": [
      "94565099389792 94565099389792\n"
     ]
    }
   ],
   "source": [
    "print(id(var), id(4))"
   ]
  },
  {
   "cell_type": "code",
   "execution_count": 4,
   "metadata": {},
   "outputs": [
    {
     "data": {
      "text/plain": [
       "[1, 2, 3]"
      ]
     },
     "execution_count": 4,
     "metadata": {},
     "output_type": "execute_result"
    }
   ],
   "source": [
    "## 얕은 복사, 깊은 복사\n",
    "\n",
    "mylist = [1,2,3]\n",
    "var = mylist\n",
    "var"
   ]
  },
  {
   "cell_type": "code",
   "execution_count": 6,
   "metadata": {},
   "outputs": [
    {
     "name": "stdout",
     "output_type": "stream",
     "text": [
      "[1, 2, 3, 4, 4]\n"
     ]
    }
   ],
   "source": [
    "mylist.append(4)\n",
    "print(mylist)"
   ]
  },
  {
   "cell_type": "code",
   "execution_count": 7,
   "metadata": {},
   "outputs": [
    {
     "name": "stdout",
     "output_type": "stream",
     "text": [
      "[1, 2, 3, 4, 4]\n"
     ]
    }
   ],
   "source": [
    "print(var)"
   ]
  },
  {
   "cell_type": "code",
   "execution_count": 8,
   "metadata": {},
   "outputs": [
    {
     "name": "stdout",
     "output_type": "stream",
     "text": [
      "140387247304784 140387247304784\n"
     ]
    }
   ],
   "source": [
    "print(id(mylist), id(var))"
   ]
  },
  {
   "cell_type": "code",
   "execution_count": 9,
   "metadata": {},
   "outputs": [
    {
     "name": "stdout",
     "output_type": "stream",
     "text": [
      "140387247304784 94565099389760\n"
     ]
    }
   ],
   "source": [
    "print(id(mylist), id(var[2]))"
   ]
  },
  {
   "cell_type": "markdown",
   "metadata": {},
   "source": [
    "## 7-4 클래스 기본 문법(1) 클래스 선언 및 인스턴스화"
   ]
  },
  {
   "cell_type": "code",
   "execution_count": 1,
   "metadata": {},
   "outputs": [
    {
     "name": "stdout",
     "output_type": "stream",
     "text": [
      "94784618471632\n",
      "94784618471632\n",
      "140370946641232\n",
      "140370946641552\n",
      "<class 'type'>\n",
      "<class '__main__.Car'>\n"
     ]
    }
   ],
   "source": [
    "class Car:\n",
    "    pass\n",
    "\n",
    "\n",
    "class Car():\n",
    "    pass\n",
    "#id(Car)는 여러번 호출해도 같은 값이 얻어집니다.\n",
    "print(id(Car))\n",
    "print(id(Car))\n",
    "\n",
    "#id(Car())는 여러번 호출해도 같은 값이 얻어집니다.\n",
    "print(id(Car()))\n",
    "print(id(Car()))\n",
    "\n",
    "# 두 객체의 type을 살펴봅니다.\n",
    "print(type(Car))\n",
    "print(type(Car()))"
   ]
  },
  {
   "cell_type": "markdown",
   "metadata": {},
   "source": [
    "### 클래스 사용 - 객체인스턴스화\n",
    "___\n",
    "클래스를 이용하려면 클래스로 객체를 만들어주어야 하는데 이를 __\"인스턴스화\"__라고 합니다.\n",
    "\n",
    "인스턴스화 방법은 서넌한 클래스 이름에 괄호를 적어 줍니다. 그리고 생성된 인스턴스를 적당한 변수에 할당해서 사용합니다."
   ]
  },
  {
   "cell_type": "code",
   "execution_count": 3,
   "metadata": {},
   "outputs": [
    {
     "name": "stdout",
     "output_type": "stream",
     "text": [
      "140370946150736\n",
      "140370946150672\n"
     ]
    }
   ],
   "source": [
    "mycar = Car()\n",
    "mycar2 = Car()\n",
    "print(id(mycar))\n",
    "print(id(mycar2))"
   ]
  },
  {
   "cell_type": "markdown",
   "metadata": {},
   "source": [
    "## 클래스 기본 문법(2) 클래스 속성과 메소드"
   ]
  },
  {
   "cell_type": "markdown",
   "metadata": {},
   "source": [
    "### 클래스의 속성과 메소드\n",
    "___\n",
    "앞서 클래스는 개발자가 객체를 설계하기 위한 것 그리고 맨 처음에 객체에는 속성과 메소드가 있다고 배움\n",
    "그럼 클래스에서 속성과 메소드를 구현하는 방법은?\n",
    "\n",
    "- 클래스의 속성은 상태(state)를 표현합니다.. 속성은 변수로 나타냅니다.\n",
    "- 클래스의 메소드는 동작(behavior)을 표현합니다. 메소드는 def 키워드로 나타냅니다.\n",
    "\n",
    "__색상__은 \"red\", __종류__는 \"sports car\"라는 속성을 갖고 __주행__과 __가속__이라는 동작을 갖는 클래스를 정의해 보겠습니다.\n",
    "\n",
    "__속성__은 변수로 선언합니다.   \n",
    "\n",
    "- color='red'\n",
    "- category = 'sports car'\n",
    "\n",
    "__동작__은 다른 말로 메소드이고 메소드는 def 키워들를 사용한다고 했습니다."
   ]
  },
  {
   "cell_type": "code",
   "execution_count": 4,
   "metadata": {},
   "outputs": [],
   "source": [
    "def driving():\n",
    "    pass\n",
    "\n",
    "def accel():\n",
    "    pass"
   ]
  },
  {
   "cell_type": "code",
   "execution_count": 10,
   "metadata": {},
   "outputs": [],
   "source": [
    "class Car():\n",
    "\n",
    "    color = 'red'\n",
    "    category = 'sports car'\n",
    "\n",
    "    def drive(self):\n",
    "       \n",
    "        print(\"i'm driving\")\n",
    "    \n",
    "    def accel(self, speed_up, current_speed = 10):\n",
    "   \n",
    "        self.speed_up = speed_up\n",
    "        self.current_speed = current_speed + speed_up\n",
    "        print(\"speed up\", self.speed_up, \"driving at\", self.current_speed)"
   ]
  },
  {
   "cell_type": "code",
   "execution_count": null,
   "metadata": {},
   "outputs": [],
   "source": []
  }
 ],
 "metadata": {
  "kernelspec": {
   "display_name": "aiffel",
   "language": "python",
   "name": "aiffel"
  },
  "language_info": {
   "codemirror_mode": {
    "name": "ipython",
    "version": 3
   },
   "file_extension": ".py",
   "mimetype": "text/x-python",
   "name": "python",
   "nbconvert_exporter": "python",
   "pygments_lexer": "ipython3",
   "version": "3.7.9"
  }
 },
 "nbformat": 4,
 "nbformat_minor": 4
}
