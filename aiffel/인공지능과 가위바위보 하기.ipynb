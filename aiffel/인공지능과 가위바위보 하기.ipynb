{
 "cells": [
  {
   "cell_type": "markdown",
   "metadata": {},
   "source": [
    "## 1-2 데이터를 준비하자!"
   ]
  },
  {
   "cell_type": "markdown",
   "metadata": {},
   "source": [
    "- tensorflow의 표준 API tf.keras 의 Sequential API를 이용하여 숫자 손글씨 인식기를 만든다.\n"
   ]
  },
  {
   "cell_type": "code",
   "execution_count": 11,
   "metadata": {},
   "outputs": [
    {
     "name": "stdout",
     "output_type": "stream",
     "text": [
      "텐서플로우버전: 1.14.0\n",
      "x_trian 배열의 크기 출력: 60000\n"
     ]
    }
   ],
   "source": [
    "# 라이브러리 불러오기\n",
    "\n",
    "import tensorflow as tf\n",
    "from tensorflow import keras\n",
    "\n",
    "import numpy as np\n",
    "import matplotlib.pyplot as plt\n",
    "\n",
    "print('텐서플로우버전:', tf.__version__) # tensorflow의 버전 출력\n",
    "\n",
    "mnist = keras.datasets.mnist\n",
    "\n",
    "(x_train, y_train),(x_test, y_test) = mnist.load_data()\n",
    "\n",
    "print('x_trian 배열의 크기 출력:'  ,len(x_train)) # x_train 배열의 크기를 출력"
   ]
  },
  {
   "cell_type": "code",
   "execution_count": 17,
   "metadata": {},
   "outputs": [
    {
     "data": {
      "image/png": "[encoded data removed]",
      "text/plain": [
       "<Figure size 432x288 with 1 Axes>"
      ]
     },
     "metadata": {
      "needs_background": "light"
     },
     "output_type": "display_data"
    }
   ],
   "source": [
    "plt.imshow(x_train[1], cmap=plt.cm.binary)\n",
    "plt.show()"
   ]
  },
  {
   "cell_type": "code",
   "execution_count": 16,
   "metadata": {},
   "outputs": [
    {
     "name": "stdout",
     "output_type": "stream",
     "text": [
      "0\n"
     ]
    }
   ],
   "source": [
    "print(y_train[1])"
   ]
  },
  {
   "cell_type": "code",
   "execution_count": 21,
   "metadata": {},
   "outputs": [
    {
     "data": {
      "image/png": "[encoded data removed]",
      "text/plain": [
       "<Figure size 432x288 with 1 Axes>"
      ]
     },
     "metadata": {
      "needs_background": "light"
     },
     "output_type": "display_data"
    }
   ],
   "source": [
    "#index에 0에서 59999 사이 숫자를 지정해 보세요\n",
    "index = 55\n",
    "plt.imshow(x_train[index], cmap=plt.cm.binary)\n",
    "plt.show()"
   ]
  },
  {
   "cell_type": "markdown",
   "metadata": {},
   "source": [
    "## 학습용 데이터와 심험용 데이터\n",
    "___"
   ]
  },
  {
   "cell_type": "code",
   "execution_count": 22,
   "metadata": {},
   "outputs": [
    {
     "name": "stdout",
     "output_type": "stream",
     "text": [
      "(60000, 28, 28)\n"
     ]
    }
   ],
   "source": [
    "print(x_train.shape)"
   ]
  },
  {
   "cell_type": "code",
   "execution_count": 23,
   "metadata": {},
   "outputs": [
    {
     "name": "stdout",
     "output_type": "stream",
     "text": [
      "(10000, 28, 28)\n"
     ]
    }
   ],
   "source": [
    "print(x_test.shape)"
   ]
  },
  {
   "cell_type": "code",
   "execution_count": 25,
   "metadata": {},
   "outputs": [
    {
     "name": "stdout",
     "output_type": "stream",
     "text": [
      " 최소값:  0 최대값: 255\n"
     ]
    }
   ],
   "source": [
    "print(' 최소값: ', np.min(x_train), '최대값:', np.max(x_train))"
   ]
  },
  {
   "cell_type": "code",
   "execution_count": 26,
   "metadata": {},
   "outputs": [
    {
     "name": "stdout",
     "output_type": "stream",
     "text": [
      "최소값: 0.0 최대값: 1.0\n"
     ]
    }
   ],
   "source": [
    "x_train_norm, x_test_norm = x_train/255.0, x_test/255.0\n",
    "print('최소값:', np.min(x_train_norm), '최대값:',np.max(x_train_norm))"
   ]
  },
  {
   "cell_type": "markdown",
   "metadata": {},
   "source": [
    "## 1.3 딥러닝 네트워크 설계하기"
   ]
  },
  {
   "cell_type": "markdown",
   "metadata": {},
   "source": [
    "### Sequenential Model을 사용해 보자\n",
    "___"
   ]
  },
  {
   "cell_type": "code",
   "execution_count": 28,
   "metadata": {},
   "outputs": [
    {
     "name": "stdout",
     "output_type": "stream",
     "text": [
      "WARNING:tensorflow:From /home/jaejin/anaconda3/envs/aiffel/lib/python3.7/site-packages/tensorflow/python/ops/init_ops.py:1251: calling VarianceScaling.__init__ (from tensorflow.python.ops.init_ops) with dtype is deprecated and will be removed in a future version.\n",
      "Instructions for updating:\n",
      "Call initializer instance with the dtype argument instead of passing it to the constructor\n",
      "Model에 추가된 Layer 개수: 7\n"
     ]
    }
   ],
   "source": [
    "model = keras.models.Sequential()\n",
    "model.add(keras.layers.Conv2D(16,(3,3), activation = 'relu', input_shape=(28,28,1)))\n",
    "model.add(keras.layers.MaxPool2D(2,2))\n",
    "model.add(keras.layers.Conv2D(32, (3,3), activation='relu'))\n",
    "model.add(keras.layers.MaxPooling2D((2,2)))\n",
    "model.add(keras.layers.Flatten())\n",
    "model.add(keras.layers.Dense(32, activation='relu'))\n",
    "model.add(keras.layers.Dense(10, activation='softmax'))\n",
    "\n",
    "print('Model에 추가된 Layer 개수:', len(model.layers))"
   ]
  },
  {
   "cell_type": "code",
   "execution_count": 29,
   "metadata": {},
   "outputs": [
    {
     "name": "stdout",
     "output_type": "stream",
     "text": [
      "Model: \"sequential\"\n",
      "_________________________________________________________________\n",
      "Layer (type)                 Output Shape              Param #   \n",
      "=================================================================\n",
      "conv2d (Conv2D)              (None, 26, 26, 16)        160       \n",
      "_________________________________________________________________\n",
      "max_pooling2d (MaxPooling2D) (None, 13, 13, 16)        0         \n",
      "_________________________________________________________________\n",
      "conv2d_1 (Conv2D)            (None, 11, 11, 32)        4640      \n",
      "_________________________________________________________________\n",
      "max_pooling2d_1 (MaxPooling2 (None, 5, 5, 32)          0         \n",
      "_________________________________________________________________\n",
      "flatten (Flatten)            (None, 800)               0         \n",
      "_________________________________________________________________\n",
      "dense (Dense)                (None, 32)                25632     \n",
      "_________________________________________________________________\n",
      "dense_1 (Dense)              (None, 10)                330       \n",
      "=================================================================\n",
      "Total params: 30,762\n",
      "Trainable params: 30,762\n",
      "Non-trainable params: 0\n",
      "_________________________________________________________________\n"
     ]
    }
   ],
   "source": [
    "model.summary()"
   ]
  },
  {
   "cell_type": "markdown",
   "metadata": {},
   "source": [
    "## 1-4 딥러닝 네트워크 학습시키기"
   ]
  },
  {
   "cell_type": "markdown",
   "metadata": {},
   "source": [
    "- 현재 네트워크 입력은 (데이터갯수, 이미지 크기 x, 이미지 크기 y, 채널수)와 같은 형태를 가진다\n",
    "\n",
    "- print(x_train.shape) 을 해보면(60000, 28, 28) 로 채널수가 대한 정보가 없다\n",
    "\n",
    "- 따라서 (60000, 28, 28, 1) 로 만들어 채널 인자 값을 넣어준다."
   ]
  },
  {
   "cell_type": "code",
   "execution_count": 30,
   "metadata": {},
   "outputs": [
    {
     "name": "stdout",
     "output_type": "stream",
     "text": [
      "Before Reshape-x_train_norm shape:(60000, 28, 28)\n",
      "Before Reshape-x_test_norm shape:(10000, 28, 28)\n",
      "After Reshape-x_train_reshaped shape:(60000, 28, 28, 1)\n",
      "After Reshpae-x_test_reshaped shape:(10000, 28, 28, 1)\n"
     ]
    }
   ],
   "source": [
    "print(\"Before Reshape-x_train_norm shape:{}\".format(x_train_norm.shape))\n",
    "print(\"Before Reshape-x_test_norm shape:{}\".format(x_test_norm.shape))\n",
    "\n",
    "x_train_reshaped = x_train_norm.reshape(-1, 28, 28, 1) #데이터갯수에 -1 을 쓰면 reshape시 자동 계산됩니다.\n",
    "x_test_reshaped = x_test_norm.reshape(-1,28,28,1)\n",
    "\n",
    "print(\"After Reshape-x_train_reshaped shape:{}\".format(x_train_reshaped.shape))\n",
    "print(\"After Reshpae-x_test_reshaped shape:{}\".format(x_test_reshaped.shape))\n"
   ]
  },
  {
   "cell_type": "code",
   "execution_count": 32,
   "metadata": {},
   "outputs": [
    {
     "name": "stdout",
     "output_type": "stream",
     "text": [
      "Epoch 1/10\n",
      "60000/60000 [==============================] - 11s 180us/sample - loss: 0.2089 - acc: 0.9364\n",
      "Epoch 2/10\n",
      "60000/60000 [==============================] - 11s 183us/sample - loss: 0.0711 - acc: 0.9786\n",
      "Epoch 3/10\n",
      "60000/60000 [==============================] - 11s 181us/sample - loss: 0.0528 - acc: 0.9839\n",
      "Epoch 4/10\n",
      "60000/60000 [==============================] - 11s 186us/sample - loss: 0.0426 - acc: 0.9866\n",
      "Epoch 5/10\n",
      "60000/60000 [==============================] - 11s 185us/sample - loss: 0.0348 - acc: 0.9893\n",
      "Epoch 6/10\n",
      "60000/60000 [==============================] - 11s 190us/sample - loss: 0.0293 - acc: 0.9905\n",
      "Epoch 7/10\n",
      "60000/60000 [==============================] - 11s 186us/sample - loss: 0.0243 - acc: 0.9921\n",
      "Epoch 8/10\n",
      "60000/60000 [==============================] - 11s 184us/sample - loss: 0.0206 - acc: 0.9937\n",
      "Epoch 9/10\n",
      "60000/60000 [==============================] - 12s 197us/sample - loss: 0.0178 - acc: 0.9942\n",
      "Epoch 10/10\n",
      "60000/60000 [==============================] - 11s 186us/sample - loss: 0.0159 - acc: 0.9949\n"
     ]
    },
    {
     "data": {
      "text/plain": [
       "<tensorflow.python.keras.callbacks.History at 0x7f6b3982ea90>"
      ]
     },
     "execution_count": 32,
     "metadata": {},
     "output_type": "execute_result"
    }
   ],
   "source": [
    "model.compile(optimizer='adam',\n",
    "             loss = 'sparse_categorical_crossentropy',\n",
    "             metrics=['accuracy'])\n",
    "\n",
    "model.fit(x_train_reshaped, y_train, epochs = 10)"
   ]
  },
  {
   "cell_type": "markdown",
   "metadata": {},
   "source": [
    "## 1-5 얼마나 잘 만들었는지 확인하기"
   ]
  },
  {
   "cell_type": "markdown",
   "metadata": {},
   "source": [
    "테스트 데이터로 성능을 확인해 보자\n",
    "___"
   ]
  },
  {
   "cell_type": "code",
   "execution_count": 34,
   "metadata": {},
   "outputs": [
    {
     "name": "stdout",
     "output_type": "stream",
     "text": [
      "10000/10000 - 1s - loss: 0.0415 - acc: 0.9888\n",
      "test_loss:0.04149089626784844\n",
      "test_accuracy0.9887999892234802\n"
     ]
    }
   ],
   "source": [
    "test_loss, test_accuracy = model.evaluate(x_test_reshaped, y_test, verbose=2)\n",
    "print(\"test_loss:{}\".format(test_loss))\n",
    "print(\"test_accuracy{}\".format(test_accuracy))"
   ]
  },
  {
   "cell_type": "code",
   "execution_count": 35,
   "metadata": {},
   "outputs": [
    {
     "name": "stdout",
     "output_type": "stream",
     "text": [
      "model.predict() 결과: [7.2067508e-09 2.8895428e-10 1.7763106e-06 3.8359458e-06 4.2846310e-10\n",
      " 8.9420311e-08 4.2885752e-16 9.9999189e-01 1.6941432e-06 6.4423222e-07]\n",
      "model이 추론한 가장 가능성이 높은 결과: 7\n",
      "실제 데이터의 라벨: 7\n"
     ]
    }
   ],
   "source": [
    "predicted_result = model.predict(x_test_reshaped) #model이 추론한 확률값. \n",
    "predicted_labels = np.argmax(predicted_result, axis=1)\n",
    "\n",
    "idx = 0 # 1번째 x_test 를 살펴보자\n",
    "print('model.predict() 결과:', predicted_result[idx])\n",
    "print('model이 추론한 가장 가능성이 높은 결과:', predicted_labels[idx])\n",
    "print('실제 데이터의 라벨:', y_test[idx])"
   ]
  },
  {
   "cell_type": "code",
   "execution_count": 36,
   "metadata": {},
   "outputs": [
    {
     "data": {
      "image/png": "[encoded data removed]",
      "text/plain": [
       "<Figure size 432x288 with 1 Axes>"
      ]
     },
     "metadata": {
      "needs_background": "light"
     },
     "output_type": "display_data"
    }
   ],
   "source": [
    "plt.imshow(x_test[idx], cmap = plt.cm.binary)\n",
    "plt.show()"
   ]
  },
  {
   "cell_type": "code",
   "execution_count": 39,
   "metadata": {},
   "outputs": [
    {
     "name": "stdout",
     "output_type": "stream",
     "text": [
      "예측확률분포:[2.0038031e-10 2.0008292e-05 9.7236745e-02 4.1130838e-13 9.0270370e-01\n",
      " 6.0370642e-10 3.9511040e-05 7.8801184e-12 2.6425528e-11 1.1808064e-15]\n",
      "라벨:2예측결과:4\n"
     ]
    },
    {
     "data": {
      "image/png": "[encoded data removed]",
      "text/plain": [
       "<Figure size 432x288 with 1 Axes>"
      ]
     },
     "metadata": {
      "needs_background": "light"
     },
     "output_type": "display_data"
    },
    {
     "name": "stdout",
     "output_type": "stream",
     "text": [
      "예측확률분포:[9.9045483e-06 9.4647920e-01 1.4203796e-02 3.5114722e-06 1.2174284e-03\n",
      " 1.6838358e-05 3.8056299e-02 1.1283750e-08 1.3044313e-05 5.4862173e-09]\n",
      "라벨:6예측결과:1\n"
     ]
    },
    {
     "data": {
      "image/png": "[encoded data removed]",
      "text/plain": [
       "<Figure size 432x288 with 1 Axes>"
      ]
     },
     "metadata": {
      "needs_background": "light"
     },
     "output_type": "display_data"
    },
    {
     "name": "stdout",
     "output_type": "stream",
     "text": [
      "예측확률분포:[8.5478842e-01 1.3166159e-09 2.7493417e-07 1.3773307e-08 1.9870765e-06\n",
      " 2.1110363e-04 1.4499231e-01 6.3449450e-09 5.5401983e-06 2.9819012e-07]\n",
      "라벨:6예측결과:0\n"
     ]
    },
    {
     "data": {
      "image/png": "[encoded data removed]",
      "text/plain": [
       "<Figure size 432x288 with 1 Axes>"
      ]
     },
     "metadata": {
      "needs_background": "light"
     },
     "output_type": "display_data"
    },
    {
     "name": "stdout",
     "output_type": "stream",
     "text": [
      "예측확률분포:[5.0247265e-03 8.4668529e-11 1.2111155e-03 2.0850667e-08 6.1780874e-09\n",
      " 6.1053601e-07 2.8206961e-02 4.8234139e-10 9.6555662e-01 1.7296677e-10]\n",
      "라벨:6예측결과:8\n"
     ]
    },
    {
     "data": {
      "image/png": "[encoded data removed]",
      "text/plain": [
       "<Figure size 432x288 with 1 Axes>"
      ]
     },
     "metadata": {
      "needs_background": "light"
     },
     "output_type": "display_data"
    },
    {
     "name": "stdout",
     "output_type": "stream",
     "text": [
      "예측확률분포:[9.7092885e-01 7.8637416e-11 1.2479741e-07 3.3992784e-11 1.5368622e-09\n",
      " 1.0195143e-05 2.9049385e-02 4.0917771e-09 1.1511424e-05 3.5812744e-09]\n",
      "라벨:6예측결과:0\n"
     ]
    },
    {
     "data": {
      "image/png": "[encoded data removed]",
      "text/plain": [
       "<Figure size 432x288 with 1 Axes>"
      ]
     },
     "metadata": {
      "needs_background": "light"
     },
     "output_type": "display_data"
    }
   ],
   "source": [
    "import random\n",
    "worng_predict_list=[]\n",
    "for i, _ in enumerate(predicted_labels):\n",
    "    # i번째 test_labels과 y_test 이 달느 경우만 모아 봅시다.\n",
    "    if predicted_labels[i] != y_test[i]:\n",
    "        worng_predict_list.append(i)\n",
    "        \n",
    "# worng_predict_list 에서 랜덤하게 5개만 뽑아봅시다.\n",
    "samples = random.choices(population = worng_predict_list, k = 5)\n",
    "\n",
    "for n in samples:\n",
    "    print(\"예측확률분포:\" + str(predicted_result[n]))\n",
    "    print(\"라벨:\" + str(y_test[n]) + \"예측결과:\" +str(predicted_labels[n]))\n",
    "    plt.imshow(x_test[n], cmap=plt.cm.binary)\n",
    "    plt.show()"
   ]
  },
  {
   "cell_type": "code",
   "execution_count": 48,
   "metadata": {},
   "outputs": [
    {
     "name": "stdout",
     "output_type": "stream",
     "text": [
      "Model: \"sequential_6\"\n",
      "_________________________________________________________________\n",
      "Layer (type)                 Output Shape              Param #   \n",
      "=================================================================\n",
      "conv2d_8 (Conv2D)            (None, 26, 26, 16)        160       \n",
      "_________________________________________________________________\n",
      "max_pooling2d_5 (MaxPooling2 (None, 13, 13, 16)        0         \n",
      "_________________________________________________________________\n",
      "conv2d_9 (Conv2D)            (None, 11, 11, 32)        4640      \n",
      "_________________________________________________________________\n",
      "max_pooling2d_6 (MaxPooling2 (None, 5, 5, 32)          0         \n",
      "_________________________________________________________________\n",
      "flatten_1 (Flatten)          (None, 800)               0         \n",
      "_________________________________________________________________\n",
      "dense_2 (Dense)              (None, 32)                25632     \n",
      "_________________________________________________________________\n",
      "dense_3 (Dense)              (None, 10)                330       \n",
      "=================================================================\n",
      "Total params: 30,762\n",
      "Trainable params: 30,762\n",
      "Non-trainable params: 0\n",
      "_________________________________________________________________\n",
      "Epoch 1/10\n",
      "60000/60000 [==============================] - 12s 207us/sample - loss: 0.1940 - acc: 0.9398\n",
      "Epoch 2/10\n",
      "60000/60000 [==============================] - 12s 207us/sample - loss: 0.0621 - acc: 0.9812\n",
      "Epoch 3/10\n",
      "60000/60000 [==============================] - 12s 205us/sample - loss: 0.0458 - acc: 0.9855\n",
      "Epoch 4/10\n",
      "60000/60000 [==============================] - 12s 206us/sample - loss: 0.0373 - acc: 0.9884\n",
      "Epoch 5/10\n",
      "60000/60000 [==============================] - 12s 205us/sample - loss: 0.0305 - acc: 0.9904\n",
      "Epoch 6/10\n",
      "60000/60000 [==============================] - 12s 206us/sample - loss: 0.0250 - acc: 0.9922\n",
      "Epoch 7/10\n",
      "60000/60000 [==============================] - 12s 201us/sample - loss: 0.0210 - acc: 0.9932\n",
      "Epoch 8/10\n",
      "60000/60000 [==============================] - 12s 203us/sample - loss: 0.0172 - acc: 0.9942\n",
      "Epoch 9/10\n",
      "60000/60000 [==============================] - 12s 206us/sample - loss: 0.0149 - acc: 0.9952\n",
      "Epoch 10/10\n",
      "60000/60000 [==============================] - 13s 211us/sample - loss: 0.0124 - acc: 0.9959\n",
      "10000/10000 - 1s - loss: 0.0364 - acc: 0.9888\n",
      "test_loss:0.036424147754938165\n",
      "test_accuracy:0.9887999892234802\n"
     ]
    }
   ],
   "source": [
    "# 바꿔 볼 수 있는 하이퍼파라미터들\n",
    "\n",
    "n_channel_1 = 16\n",
    "n_channel_2 = 32\n",
    "n_dense = 32\n",
    "n_train_epoch = 10\n",
    "\n",
    "model = keras.models.Sequential()\n",
    "model.add(keras.layers.Conv2D(n_channel_1, (3,3), activation='relu', input_shape=(28,28,1)))\n",
    "model.add(keras.layers.MaxPool2D(2,2))\n",
    "model.add(keras.layers.Conv2D(n_channel_2,(3,3), activation='relu'))\n",
    "model.add(keras.layers.MaxPooling2D((2,2)))\n",
    "model.add(keras.layers.Flatten())\n",
    "model.add(keras.layers.Dense(n_dense, activation='relu'))\n",
    "model.add(keras.layers.Dense(10, activation='softmax'))\n",
    "\n",
    "model.summary()\n",
    "model.compile(optimizer = 'adam',\n",
    "              loss='sparse_categorical_crossentropy',\n",
    "              metrics=['accuracy']\n",
    "             )\n",
    "\n",
    "# 모델 훈련\n",
    "model.fit(x_train_reshaped, y_train, epochs=n_train_epoch)\n",
    "\n",
    "# 모델 시험\n",
    "test_loss, test_accuracy = model.evaluate(x_test_reshaped, y_test, verbose=2)\n",
    "print(\"test_loss:{}\".format(test_loss))\n",
    "print(\"test_accuracy:{}\".format(test_accuracy))"
   ]
  },
  {
   "cell_type": "code",
   "execution_count": 51,
   "metadata": {},
   "outputs": [
    {
     "ename": "AttributeError",
     "evalue": "'Sequential' object has no attribute 'sequential_6'",
     "output_type": "error",
     "traceback": [
      "\u001b[0;31m---------------------------------------------------------------------------\u001b[0m",
      "\u001b[0;31mAttributeError\u001b[0m                            Traceback (most recent call last)",
      "\u001b[0;32m<ipython-input-51-5eef7b6cf725>\u001b[0m in \u001b[0;36m<module>\u001b[0;34m\u001b[0m\n\u001b[0;32m----> 1\u001b[0;31m \u001b[0mmodel\u001b[0m\u001b[0;34m.\u001b[0m\u001b[0msequential_6\u001b[0m\u001b[0;34m(\u001b[0m\u001b[0;34m)\u001b[0m\u001b[0;34m\u001b[0m\u001b[0;34m\u001b[0m\u001b[0m\n\u001b[0m",
      "\u001b[0;31mAttributeError\u001b[0m: 'Sequential' object has no attribute 'sequential_6'"
     ]
    }
   ],
   "source": [
    "model.sequential_6()"
   ]
  },
  {
   "cell_type": "code",
   "execution_count": 55,
   "metadata": {},
   "outputs": [
    {
     "ename": "AttributeError",
     "evalue": "'Sequential' object has no attribute 'parameters'",
     "output_type": "error",
     "traceback": [
      "\u001b[0;31m---------------------------------------------------------------------------\u001b[0m",
      "\u001b[0;31mAttributeError\u001b[0m                            Traceback (most recent call last)",
      "\u001b[0;32m<ipython-input-55-68ea58474983>\u001b[0m in \u001b[0;36m<module>\u001b[0;34m\u001b[0m\n\u001b[0;32m----> 1\u001b[0;31m \u001b[0mmodel\u001b[0m\u001b[0;34m.\u001b[0m\u001b[0mparameters\u001b[0m\u001b[0;34m(\u001b[0m\u001b[0;34m)\u001b[0m\u001b[0;34m\u001b[0m\u001b[0;34m\u001b[0m\u001b[0m\n\u001b[0m",
      "\u001b[0;31mAttributeError\u001b[0m: 'Sequential' object has no attribute 'parameters'"
     ]
    }
   ],
   "source": [
    "model.parameters()"
   ]
  },
  {
   "cell_type": "code",
   "execution_count": 70,
   "metadata": {},
   "outputs": [],
   "source": [
    "from PIL import Image\n",
    "import os, glob"
   ]
  },
  {
   "cell_type": "code",
   "execution_count": 63,
   "metadata": {},
   "outputs": [
    {
     "data": {
      "text/plain": [
       "'/home/jaejin/workplace/sba_project/aiffel'"
      ]
     },
     "execution_count": 63,
     "metadata": {},
     "output_type": "execute_result"
    }
   ],
   "source": [
    "os.getcwd()"
   ]
  },
  {
   "cell_type": "code",
   "execution_count": 83,
   "metadata": {},
   "outputs": [
    {
     "name": "stdout",
     "output_type": "stream",
     "text": [
      "(224, 224)\n"
     ]
    }
   ],
   "source": [
    "# 이미지 열기\n",
    "im = Image.open('rock_scissor_paper/rock/1.jpg')\n",
    " \n",
    "# 이미지 크기 출력\n",
    "print(im.size)\n",
    " \n",
    "# 이미지 JPG로 저장\n",
    "#im.save('/python.jpg')\n",
    "\n"
   ]
  },
  {
   "cell_type": "code",
   "execution_count": 68,
   "metadata": {},
   "outputs": [
    {
     "name": "stdout",
     "output_type": "stream",
     "text": [
      "Requirement already satisfied: pillow in /home/jaejin/anaconda3/envs/aiffel/lib/python3.7/site-packages (7.2.0)\r\n"
     ]
    }
   ],
   "source": [
    "!pip install pillow"
   ]
  },
  {
   "cell_type": "code",
   "execution_count": 78,
   "metadata": {},
   "outputs": [
    {
     "name": "stdout",
     "output_type": "stream",
     "text": [
      "이미지 디렉토리 경로: /home/jaejin/jaejin/workplace/sba_project/aiffel/rock_scissor_paper\n",
      "가위 이미지 resize 완료!\n"
     ]
    }
   ],
   "source": [
    "image_dir_path = os.getenv(\"HOME\") + \"/jaejin/workplace/sba_project/aiffel/rock_scissor_paper\"\n",
    "print(\"이미지 디렉토리 경로:\", image_dir_path)\n",
    "\n",
    "images = glob.glob(image_dir_path + \"scissor/*.jpg\" )\n",
    "\n",
    "target_size = (28,28)\n",
    "for img in images:\n",
    "    old_img=image.open(img)\n",
    "    new_img=old_img.resize(target_size,Image.ANTIALIAS)\n",
    "    new_img.save(img,\"JPEG\")\n",
    "print(\"가위 이미지 resize 완료!\")"
   ]
  },
  {
   "cell_type": "code",
   "execution_count": 77,
   "metadata": {},
   "outputs": [
    {
     "ename": "NameError",
     "evalue": "name 'img' is not defined",
     "output_type": "error",
     "traceback": [
      "\u001b[0;31m---------------------------------------------------------------------------\u001b[0m",
      "\u001b[0;31mNameError\u001b[0m                                 Traceback (most recent call last)",
      "\u001b[0;32m<ipython-input-77-77a7949ba908>\u001b[0m in \u001b[0;36m<module>\u001b[0;34m\u001b[0m\n\u001b[0;32m----> 1\u001b[0;31m \u001b[0mimg\u001b[0m\u001b[0;34m\u001b[0m\u001b[0;34m\u001b[0m\u001b[0m\n\u001b[0m",
      "\u001b[0;31mNameError\u001b[0m: name 'img' is not defined"
     ]
    }
   ],
   "source": [
    "img"
   ]
  },
  {
   "cell_type": "markdown",
   "metadata": {},
   "source": [
    "## 딥러닝 간단정리"
   ]
  },
  {
   "cell_type": "markdown",
   "metadata": {},
   "source": [
    "- CNN 을 이용하면 각 이미지(클래스)의 특징을 파악 할 수 있다.\n",
    "- input 이미지를 넣어서 각 이미지의 특징을 뽑아내어 1차원 구조로 뽑는다\n",
    "\n",
    "\n",
    "- 현재 모델 설명\n",
    "\n",
    "- 컨볼류션 추가 --> 맥스풀링(서브샘플링) --> \n",
    "\n",
    "- 머신러닝은 오차를 최소화 하는 과정\n",
    "- epoch20 --> 20번 돌려보겠다는 뜻 질문(크로스 밸리디드랑 가른건가?\n",
    "\n",
    "- LOSS(손실) 란? 추가자료 참고"
   ]
  },
  {
   "cell_type": "code",
   "execution_count": null,
   "metadata": {},
   "outputs": [],
   "source": []
  }
 ],
 "metadata": {
  "kernelspec": {
   "display_name": "aiffel",
   "language": "python",
   "name": "aiffel"
  },
  "language_info": {
   "codemirror_mode": {
    "name": "ipython",
    "version": 3
   },
   "file_extension": ".py",
   "mimetype": "text/x-python",
   "name": "python",
   "nbconvert_exporter": "python",
   "pygments_lexer": "ipython3",
   "version": "3.7.9"
  }
 },
 "nbformat": 4,
 "nbformat_minor": 4
}
