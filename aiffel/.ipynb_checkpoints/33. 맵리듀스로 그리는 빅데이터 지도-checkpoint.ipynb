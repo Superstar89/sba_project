{
 "cells": [
  {
   "cell_type": "markdown",
   "metadata": {},
   "source": [
    "__함수는 다른 함수의 인자로 전달될 수 있다.__"
   ]
  },
  {
   "cell_type": "code",
   "execution_count": 8,
   "metadata": {},
   "outputs": [
    {
     "name": "stdout",
     "output_type": "stream",
     "text": [
      "슝=3\n"
     ]
    }
   ],
   "source": [
    "#에러메세지를 출력하는 함수\n",
    "def errormessage(format_func, msg):\n",
    "    print(format_func(msg))\n",
    "\n",
    "#단어의 첫글자만 대문자로 만드는 함수\n",
    "def to_upper(msg):\n",
    "    t = msg.split(\" \")\n",
    "    T = []\n",
    "    for i in t:\n",
    "        i = i[0].upper() + i[1:]\n",
    "        T.append(i)\n",
    "    T = \" \".join(T)\n",
    "    return T\n",
    "\n",
    "print(\"슝=3\")"
   ]
  },
  {
   "cell_type": "code",
   "execution_count": 9,
   "metadata": {},
   "outputs": [
    {
     "name": "stdout",
     "output_type": "stream",
     "text": [
      "You Have Limited Access\n"
     ]
    }
   ],
   "source": [
    "msg = \"you have limited access\"\n",
    "errormessage(to_upper, msg)"
   ]
  },
  {
   "cell_type": "code",
   "execution_count": 10,
   "metadata": {},
   "outputs": [
    {
     "name": "stdout",
     "output_type": "stream",
     "text": [
      "슝=3\n"
     ]
    }
   ],
   "source": [
    "def france():\n",
    "    print('bonjour')\n",
    "    \n",
    "def italy():\n",
    "    print('ciao')\n",
    "    \n",
    "print(\"슝=3\")"
   ]
  },
  {
   "cell_type": "code",
   "execution_count": 11,
   "metadata": {},
   "outputs": [
    {
     "name": "stdout",
     "output_type": "stream",
     "text": [
      "<function france at 0x7f0b8c6a7710>\n"
     ]
    }
   ],
   "source": [
    "hello =france\n",
    "print(hello)"
   ]
  },
  {
   "cell_type": "code",
   "execution_count": 12,
   "metadata": {},
   "outputs": [
    {
     "name": "stdout",
     "output_type": "stream",
     "text": [
      "bonjour\n"
     ]
    }
   ],
   "source": [
    "hello()"
   ]
  },
  {
   "cell_type": "code",
   "execution_count": 13,
   "metadata": {},
   "outputs": [
    {
     "name": "stdout",
     "output_type": "stream",
     "text": [
      "<class 'function'>\n"
     ]
    }
   ],
   "source": [
    "print(type(hello))"
   ]
  },
  {
   "cell_type": "code",
   "execution_count": 15,
   "metadata": {},
   "outputs": [
    {
     "name": "stdout",
     "output_type": "stream",
     "text": [
      "슝=3\n"
     ]
    }
   ],
   "source": [
    "def func1(x):\n",
    "    return x**2\n",
    "\n",
    "def func2():\n",
    "    return func1\n",
    "\n",
    "print(\"슝=3\")"
   ]
  },
  {
   "cell_type": "code",
   "execution_count": 16,
   "metadata": {},
   "outputs": [
    {
     "name": "stdout",
     "output_type": "stream",
     "text": [
      "9\n",
      "9\n"
     ]
    }
   ],
   "source": [
    "print(func1(3))\n",
    "print(func2()(3))"
   ]
  },
  {
   "cell_type": "markdown",
   "metadata": {},
   "source": [
    "## 33-8 함수형 프로그래밍과 맵리스듀스"
   ]
  },
  {
   "cell_type": "code",
   "execution_count": 17,
   "metadata": {},
   "outputs": [
    {
     "name": "stdout",
     "output_type": "stream",
     "text": [
      "슝=3\n"
     ]
    }
   ],
   "source": [
    "import collections\n",
    "print(\"슝=3\")"
   ]
  },
  {
   "cell_type": "code",
   "execution_count": 18,
   "metadata": {},
   "outputs": [
    {
     "ename": "ImportError",
     "evalue": "cannot import name 'deafaultdict' from 'collections' (/home/jaejin/anaconda3/envs/aiffel/lib/python3.7/collections/__init__.py)",
     "output_type": "error",
     "traceback": [
      "\u001b[0;31m---------------------------------------------------------------------------\u001b[0m",
      "\u001b[0;31mImportError\u001b[0m                               Traceback (most recent call last)",
      "\u001b[0;32m<ipython-input-18-adea7e034c7d>\u001b[0m in \u001b[0;36m<module>\u001b[0;34m\u001b[0m\n\u001b[0;32m----> 1\u001b[0;31m \u001b[0;32mfrom\u001b[0m \u001b[0mcollections\u001b[0m \u001b[0;32mimport\u001b[0m \u001b[0mdeafaultdict\u001b[0m\u001b[0;34m\u001b[0m\u001b[0;34m\u001b[0m\u001b[0m\n\u001b[0m\u001b[1;32m      2\u001b[0m \u001b[0;34m\u001b[0m\u001b[0m\n\u001b[1;32m      3\u001b[0m text = \"\"\"I have a depression, and then there was a girl who came into \n\u001b[1;32m      4\u001b[0m \u001b[0mmy\u001b[0m \u001b[0mlife\u001b[0m\u001b[0;34m.\u001b[0m \u001b[0mOne\u001b[0m \u001b[0mday\u001b[0m\u001b[0;34m,\u001b[0m \u001b[0mmy\u001b[0m \u001b[0mlife\u001b[0m \u001b[0mwas\u001b[0m \u001b[0mchanged\u001b[0m \u001b[0mbecause\u001b[0m \u001b[0mthat\u001b[0m \u001b[0mgirl\u001b[0m \u001b[0mjust\u001b[0m \u001b[0mchanged\u001b[0m \u001b[0mmy\u001b[0m\u001b[0;34m\u001b[0m\u001b[0;34m\u001b[0m\u001b[0m\n\u001b[1;32m      5\u001b[0m \u001b[0mlife\u001b[0m\u001b[0;34m.\u001b[0m \u001b[0mShe\u001b[0m \u001b[0mtaught\u001b[0m \u001b[0mme\u001b[0m \u001b[0mhow\u001b[0m \u001b[0mto\u001b[0m \u001b[0mlove\u001b[0m \u001b[0;32mand\u001b[0m \u001b[0mhow\u001b[0m \u001b[0mto\u001b[0m \u001b[0mbe\u001b[0m \u001b[0man\u001b[0m \u001b[0mactive\u001b[0m \u001b[0mperson\u001b[0m\u001b[0;34m.\u001b[0m\u001b[0;34m\u001b[0m\u001b[0;34m\u001b[0m\u001b[0m\n",
      "\u001b[0;31mImportError\u001b[0m: cannot import name 'deafaultdict' from 'collections' (/home/jaejin/anaconda3/envs/aiffel/lib/python3.7/collections/__init__.py)"
     ]
    }
   ],
   "source": [
    "from collections import deafaultdict\n",
    "\n",
    "text = \"\"\"I have a depression, and then there was a girl who came into \n",
    "my life. One day, my life was changed because that girl just changed my \n",
    "life. She taught me how to love and how to be an active person. \n",
    "And then, I feel so happy when I am always with her. \n",
    "I love her so much. I don't want let her go. I am sad because she \n",
    "is with her favorite friends. I will do anything to make her proud\"\"\"\n",
    "\n",
    "result = defaultdict(int)\n",
    "word = text.split()\n",
    "\n",
    "for i in word:\n",
    "    result[i += 1]"
   ]
  },
  {
   "cell_type": "code",
   "execution_count": null,
   "metadata": {},
   "outputs": [],
   "source": []
  }
 ],
 "metadata": {
  "kernelspec": {
   "display_name": "aiffel",
   "language": "python",
   "name": "aiffel"
  },
  "language_info": {
   "codemirror_mode": {
    "name": "ipython",
    "version": 3
   },
   "file_extension": ".py",
   "mimetype": "text/x-python",
   "name": "python",
   "nbconvert_exporter": "python",
   "pygments_lexer": "ipython3",
   "version": "3.7.7"
  }
 },
 "nbformat": 4,
 "nbformat_minor": 4
}
