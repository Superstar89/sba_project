{
 "cells": [
  {
   "cell_type": "markdown",
   "metadata": {},
   "source": [
    "## 25-3 코사인 유사도\n",
    "\n",
    "유사도를 계산하는 방법 중 가장 잘 알려진 방법은 __코사인 유사도__ 입니다.\n",
    "코사인 유사도는 두 베거 간의 코사인 값을 이용해 두 벡터의 유사도를 계산합니다.\n",
    "  \n",
    " 코사인 유사도는 두 벡터의 방향이 이루는 각에 코사인을 취해 구합니다. 따라서, 두 벡터의 방향이 완전히 동일하 ㄴ경우는 1, 90도의 각을 이루면 0, 반대방향, 즉 각이 180도이면 -1 이 값을 갖게 됩니다. 따라서 코사인 유사도는 -1 ~ 1사이의 값이고, 1에 가까울 수록 유사도가 높다고 할 수 있습니다."
   ]
  },
  {
   "cell_type": "markdown",
   "metadata": {},
   "source": [
    "### NumPy 활용"
   ]
  },
  {
   "cell_type": "code",
   "execution_count": 1,
   "metadata": {},
   "outputs": [],
   "source": [
    "import numpy as np\n",
    "\n",
    "t1 = np.array([1,1,1])\n",
    "t2 = np.array([2,0,1])"
   ]
  },
  {
   "cell_type": "markdown",
   "metadata": {},
   "source": [
    "- 위와 같이 숫자 벡터가 있다고 가정\n",
    "- 위의 식을 참고해 코사인 유사도를 구하는 함수를 구하자"
   ]
  },
  {
   "cell_type": "code",
   "execution_count": 5,
   "metadata": {},
   "outputs": [],
   "source": [
    "from numpy import dot\n",
    "from numpy.linalg import norm\n",
    "def cos_sim(A, B):\n",
    "    return dot(A, B)/(norm(A)*norm(B))"
   ]
  },
  {
   "cell_type": "code",
   "execution_count": 6,
   "metadata": {},
   "outputs": [
    {
     "data": {
      "text/plain": [
       "0.7745966692414834"
      ]
     },
     "execution_count": 6,
     "metadata": {},
     "output_type": "execute_result"
    }
   ],
   "source": [
    "cos_sim(t1, t2)"
   ]
  },
  {
   "cell_type": "markdown",
   "metadata": {},
   "source": [
    "### 사이킷런 활용\n",
    "___"
   ]
  },
  {
   "cell_type": "code",
   "execution_count": 12,
   "metadata": {},
   "outputs": [],
   "source": [
    "from sklearn.metrics.pairwise import cosine_similarity"
   ]
  },
  {
   "cell_type": "code",
   "execution_count": 14,
   "metadata": {},
   "outputs": [
    {
     "data": {
      "text/plain": [
       "array([[0.77459667]])"
      ]
     },
     "execution_count": 14,
     "metadata": {},
     "output_type": "execute_result"
    }
   ],
   "source": [
    "t1 = np.array([[1,1,1]])\n",
    "t2 = np.array([[2,0,1]])\n",
    "cosine_similarity(t1,t2)"
   ]
  },
  {
   "cell_type": "markdown",
   "metadata": {},
   "source": [
    "## 25-4 추천시스템의 종류\n",
    "\n",
    "- 콘텐츠 기반 필터링\n",
    "\n",
    "- 협업 필터링\n",
    "    - 사용자 기반\n",
    "    - 아이템 기반\n",
    "    - 잠재요인 협업 필터링 (latent factor collaborative filtering) --> 행렬 인수분해(matrix factorization)\n",
    "    \n",
    "- Deep Learning 적용 or Hybrid 방식\n",
    "___\n"
   ]
  },
  {
   "cell_type": "markdown",
   "metadata": {},
   "source": [
    "## 25-5 콘텐츠 기반 필터링\n",
    "\n",
    "### 콘텐츠 기반 필터링(Content Based Filtering)\n",
    "___\n",
    "- 어떤 사람이 한 영화를 좋아했다면, 비슷한 콘텐츠의 아이템을 추천하는 방식\n",
    "- 즉, 아이언맨1 을 봤으면 아이언맨2, 아이언맨3 을 추천해주고 마블영화를 추천하는 것\n",
    "- 콘텐츠 기반은 순수하게 콘텐츠의 내용만을 비교해서 추천하는 방식\n",
    "\n",
    "- 영화의 특성(Feature)는 장르, 배우, 감독등의 정보다"
   ]
  },
  {
   "cell_type": "markdown",
   "metadata": {},
   "source": [
    "###"
   ]
  }
 ],
 "metadata": {
  "kernelspec": {
   "display_name": "aiffel",
   "language": "python",
   "name": "aiffel"
  },
  "language_info": {
   "codemirror_mode": {
    "name": "ipython",
    "version": 3
   },
   "file_extension": ".py",
   "mimetype": "text/x-python",
   "name": "python",
   "nbconvert_exporter": "python",
   "pygments_lexer": "ipython3",
   "version": "3.7.7"
  }
 },
 "nbformat": 4,
 "nbformat_minor": 4
}
