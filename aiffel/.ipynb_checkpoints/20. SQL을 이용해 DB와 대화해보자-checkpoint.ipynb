{
 "cells": [
  {
   "cell_type": "markdown",
   "metadata": {},
   "source": [
    "## 20-1 들어가며\n",
    "\n",
    "### 파이썬과 데이터베이스가 만난다면?\n",
    "___\n",
    "\n",
    "## 20-2 파이썬으로 DB 다루기\n",
    "___\n",
    "### SQLite\n",
    "___\n",
    "SQLite는 서버의 필요 없이 DB의 파일ㅇ 기초하여 DB 처리를 구현한 임베디드 SQL DB 엔진입니다. \n",
    "  \n",
    "   \n",
    "   \n",
    "### 파이썬과 DB\n",
    "___\n",
    "  \n",
    "  \n",
    "  \n",
    "  \n",
    "  \n",
    "  \n",
    "Python DB API"
   ]
  },
  {
   "cell_type": "code",
   "execution_count": 2,
   "metadata": {},
   "outputs": [
    {
     "name": "stdout",
     "output_type": "stream",
     "text": [
      "뿅💛\n"
     ]
    }
   ],
   "source": [
    "import sqlite3\n",
    "print(\"뿅💛\")"
   ]
  },
  {
   "cell_type": "code",
   "execution_count": 9,
   "metadata": {},
   "outputs": [
    {
     "name": "stdout",
     "output_type": "stream",
     "text": [
      "<sqlite3.Connection object at 0x7feaf50b0e30>\n"
     ]
    }
   ],
   "source": [
    "import os\n",
    "db_path = os.getenv('HOME')+'/aiffel/sql_to_db/sqlite/mydb.db'\n",
    "conn = sqlite3.connect(db_path)  # mydb.db에 연결합니다.\n",
    "print(conn)"
   ]
  },
  {
   "cell_type": "code",
   "execution_count": 10,
   "metadata": {},
   "outputs": [
    {
     "name": "stdout",
     "output_type": "stream",
     "text": [
      "<sqlite3.Cursor object at 0x7feaf464c880>\n"
     ]
    }
   ],
   "source": [
    "c = conn.cursor()\n",
    "print(c)"
   ]
  },
  {
   "cell_type": "code",
   "execution_count": 11,
   "metadata": {},
   "outputs": [
    {
     "ename": "OperationalError",
     "evalue": "database is locked",
     "output_type": "error",
     "traceback": [
      "\u001b[0;31m---------------------------------------------------------------------------\u001b[0m",
      "\u001b[0;31mOperationalError\u001b[0m                          Traceback (most recent call last)",
      "\u001b[0;32m<ipython-input-11-b51565505a0b>\u001b[0m in \u001b[0;36m<module>\u001b[0;34m\u001b[0m\n\u001b[1;32m      3\u001b[0m \u001b[0;34m\u001b[0m\u001b[0m\n\u001b[1;32m      4\u001b[0m \u001b[0;31m# stocks 테이블에 데이터를 하나 인서트합니다.\u001b[0m\u001b[0;34m\u001b[0m\u001b[0;34m\u001b[0m\u001b[0;34m\u001b[0m\u001b[0m\n\u001b[0;32m----> 5\u001b[0;31m \u001b[0mc\u001b[0m\u001b[0;34m.\u001b[0m\u001b[0mexecute\u001b[0m\u001b[0;34m(\u001b[0m\u001b[0;34m\"INSERT INTO stocks VALUES ('20200701', 'TEST', 'AIFFEL', 1, 10000)\"\u001b[0m\u001b[0;34m)\u001b[0m\u001b[0;34m\u001b[0m\u001b[0;34m\u001b[0m\u001b[0m\n\u001b[0m\u001b[1;32m      6\u001b[0m \u001b[0;34m\u001b[0m\u001b[0m\n\u001b[1;32m      7\u001b[0m \u001b[0;31m# 방금 인서트한 데이터를 조회해 봅니다.\u001b[0m\u001b[0;34m\u001b[0m\u001b[0;34m\u001b[0m\u001b[0;34m\u001b[0m\u001b[0m\n",
      "\u001b[0;31mOperationalError\u001b[0m: database is locked"
     ]
    }
   ],
   "source": [
    "# stocks이라는 이름의 테이블을 하나 생성합니다. 혹시 이미 생성되었다면 생략합니다. \n",
    "c.execute(\"CREATE TABLE  IF NOT EXISTS  stocks (date text, trans text, symbol text, qty real, price real)\")\n",
    "\n",
    "# stocks 테이블에 데이터를 하나 인서트합니다. \n",
    "c.execute(\"INSERT INTO stocks VALUES ('20200701', 'TEST', 'AIFFEL', 1, 10000)\")\n",
    "\n",
    "# 방금 인서트한 데이터를 조회해 봅니다.\n",
    "c.execute(\"SELECT * FROM stocks\")\n",
    "\n",
    "# 조회된 내역을 커서를 통해 가져와 출력해 봅니다.\n",
    "print(c.fetchone())"
   ]
  },
  {
   "cell_type": "code",
   "execution_count": null,
   "metadata": {},
   "outputs": [],
   "source": []
  }
 ],
 "metadata": {
  "kernelspec": {
   "display_name": "aiffel",
   "language": "python",
   "name": "aiffel"
  },
  "language_info": {
   "codemirror_mode": {
    "name": "ipython",
    "version": 3
   },
   "file_extension": ".py",
   "mimetype": "text/x-python",
   "name": "python",
   "nbconvert_exporter": "python",
   "pygments_lexer": "ipython3",
   "version": "3.7.9"
  }
 },
 "nbformat": 4,
 "nbformat_minor": 4
}
