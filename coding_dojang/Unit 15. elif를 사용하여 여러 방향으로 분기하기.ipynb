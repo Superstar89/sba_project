{
 "cells": [
  {
   "cell_type": "markdown",
   "metadata": {},
   "source": [
    "## 15.1 elif 사용하기"
   ]
  },
  {
   "cell_type": "code",
   "execution_count": 1,
   "metadata": {},
   "outputs": [
    {
     "name": "stdout",
     "output_type": "stream",
     "text": [
      "20입니다.\n"
     ]
    }
   ],
   "source": [
    "x = 20\n",
    "if x == 10:\n",
    "    print('10입니다.')\n",
    "elif x == 20:\n",
    "    print('20입니다.')\n",
    "    \n"
   ]
  },
  {
   "cell_type": "markdown",
   "metadata": {},
   "source": [
    "## 15.1.11 if, elif, else 를 모두 사용하기"
   ]
  },
  {
   "cell_type": "code",
   "execution_count": 2,
   "metadata": {},
   "outputs": [
    {
     "name": "stdout",
     "output_type": "stream",
     "text": [
      "10도 20도 아닙니다.\n"
     ]
    }
   ],
   "source": [
    "x = 30\n",
    "\n",
    "if x == 10:\n",
    "    print('10 입니다.')\n",
    "elif x == 20:\n",
    "    print('20입니다.')\n",
    "else:\n",
    "    print( '10도 20도 아닙니다.')"
   ]
  },
  {
   "cell_type": "code",
   "execution_count": 3,
   "metadata": {},
   "outputs": [
    {
     "name": "stdout",
     "output_type": "stream",
     "text": [
      "2\n",
      "사이다.\n"
     ]
    }
   ],
   "source": [
    "button = int(input())\n",
    "\n",
    "if button == 1:\n",
    "    print('콜라')\n",
    "elif button == 2:\n",
    "    print('사이다.')\n",
    "elif button ==3:\n",
    "    print('환타')\n",
    "else:\n",
    "    print('제공하지 않는 메뉴')"
   ]
  },
  {
   "cell_type": "code",
   "execution_count": 4,
   "metadata": {},
   "outputs": [
    {
     "name": "stdout",
     "output_type": "stream",
     "text": [
      "123\n",
      "아무것도 해당하지 않음\n"
     ]
    }
   ],
   "source": [
    "x = int(input())\n",
    "\n",
    "if  11 <= x <= 20:\n",
    "    print(\"11~20\")\n",
    "elif 21 <= x <= 30:\n",
    "    print(\"21~30\")\n",
    "else:\n",
    "    print(\"아무것도 해당하지 않음\")\n"
   ]
  },
  {
   "cell_type": "code",
   "execution_count": 6,
   "metadata": {},
   "outputs": [
    {
     "name": "stdout",
     "output_type": "stream",
     "text": [
      "17\n",
      "7950\n"
     ]
    }
   ],
   "source": [
    "age = int(input())\n",
    "balance = 9000    # 교통카드 잔액\n",
    "\n",
    "if 7 <= age <= 12:\n",
    "    print(balance - 650)\n",
    "elif 13 <= age <= 18:\n",
    "    print(balance - 1050)\n",
    "elif age >= 19:\n",
    "    print(balance - 1250)\n"
   ]
  },
  {
   "cell_type": "code",
   "execution_count": null,
   "metadata": {},
   "outputs": [],
   "source": []
  }
 ],
 "metadata": {
  "kernelspec": {
   "display_name": "aiffel",
   "language": "python",
   "name": "aiffel"
  },
  "language_info": {
   "codemirror_mode": {
    "name": "ipython",
    "version": 3
   },
   "file_extension": ".py",
   "mimetype": "text/x-python",
   "name": "python",
   "nbconvert_exporter": "python",
   "pygments_lexer": "ipython3",
   "version": "3.7.6"
  }
 },
 "nbformat": 4,
 "nbformat_minor": 4
}
